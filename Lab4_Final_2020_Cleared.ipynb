{
 "cells": [
  {
   "cell_type": "markdown",
   "metadata": {},
   "source": [
    "# Lab 4: Using Supernovae Data to Demonstrate the Universe is Accelerating\n",
    "Written by Andrea Lommen, Haverford College, March, 2018, edited for March 2020\n",
    "with gratitude to Nobel Laureate Adam Riess for sharing his data.\n"
   ]
  },
  {
   "cell_type": "markdown",
   "metadata": {},
   "source": [
    "## Goals of this lab\n",
    "\n",
    "You will:\n",
    "\n",
    "* Use Nobel Award winning supernovae data to demonstrate that the universe is not only expanding, but accelerating.\n",
    "* Fit a curve to data.\n",
    "* Understand slope and derivatives of functions.  In particular you'll connect results of np.polyfit to the familiar y = mx+b that many of you may remember.\n",
    "* Understand polynomials.\n",
    "* Connect the fitting of a curve of velocity vs distance to the acceleration of the universe\n",
    "* Use residuals to judge how good a model fit is.\n",
    "* Use approximations, and determine under what conditions they are true.\n",
    "* Practice using read_csv again, setting the delimeter, renaming columns.\n",
    "* be forced to be efficient in your code.  I've started to put limits on how many lines of code you write.  To stay within my limits you'll have to keep using \"allSN\" (which you'll create shortly) as an \"object\".  So when you want to use a particular column of allSN, for example \"redshift\" you'll need to use \"allSN.redshift\" without setting that equal to something else.\n",
    "* spend some time _not_ writing functions, so you start to get wiser about when you need a function and when you don't. "
   ]
  },
  {
   "cell_type": "markdown",
   "metadata": {},
   "source": [
    "The data table found in /homes/astro/PHY104 is called\n",
    "full_list6intmag.origsnls.zp.tex\n",
    "and is from this manuscript, from which you should read the abstract, the introduction, and the text around the table we are using (Table 4) which includes\n",
    "http://adsabs.harvard.edu/abs/2007ApJ...659...98R\n",
    "\n",
    "Adam Riess and his collaborators won the Nobel Prize for this work. \n",
    "\n",
    "Watch his 27-minute Nobel lecture here:\n",
    "https://www.nobelprize.org/nobel_prizes/physics/laureates/2011/riess-lecture.html"
   ]
  },
  {
   "cell_type": "markdown",
   "metadata": {},
   "source": [
    "### Step 1: Read in Adam's table into an object called \"allSN\", i.e.\n",
    "Use a command like:\n",
    "```\n",
    "allSN = pd.read_csv(.....)\n",
    "```\n",
    "I've imported the libraries you need below.  Here are my hints about\n",
    "using the pd.read_csv function. The file is called \n",
    "\"/homes/astro/PHY104/full_list6intmag.origsnls.zp.tex\"\n",
    "You need to set delimiter equal to something \n",
    "(**delimeter = \"?\"**) to get this to work.  \n",
    "\n",
    "Take a look at the file itself to see what character\n",
    "you should use as the delimeter.  The easiest way to do that is open\n",
    "up a terminal and say\n",
    "```\n",
    "more /homes/astro/PHY104/full_list6intmag.origsnls.zp.tex\n",
    "```\n",
    "From there the spacebar will advance the file and \"q\" will bring you back to the prompt.\n",
    "\n",
    "(**Keep the command \"more\" in mind as you're working with the CSV's in your projects.**)\n",
    "\n",
    "Finally, you need **header=None** in your list of what you pass\n",
    "to read_csv because this file has no header.\n",
    "\n",
    "Putting that all together, your read statement will look kinda\n",
    "like this:\n",
    "```\n",
    "allSN = pd.read_csv(\"filename.blah.blah.blah\", delimiter='?', header=None)\n",
    "```"
   ]
  },
  {
   "cell_type": "code",
   "execution_count": null,
   "metadata": {},
   "outputs": [],
   "source": [
    "import pandas as pd\n",
    "import numpy as np\n",
    "import matplotlib.pyplot as plt"
   ]
  },
  {
   "cell_type": "code",
   "execution_count": null,
   "metadata": {},
   "outputs": [],
   "source": [
    "#(1)  Read in the CSV (1 point)\n"
   ]
  },
  {
   "cell_type": "code",
   "execution_count": null,
   "metadata": {},
   "outputs": [],
   "source": [
    "#(2)\n",
    "# See what it looks like! (Show the table) (1 point)"
   ]
  },
  {
   "cell_type": "markdown",
   "metadata": {},
   "source": [
    "Let's take full advantage of the pandas table format by naming the columns appopriately.  The columns are name, redshift, mu, sigma, dots, and survey. Rename them and then display the table again."
   ]
  },
  {
   "cell_type": "code",
   "execution_count": null,
   "metadata": {},
   "outputs": [],
   "source": [
    "#(3)\n",
    "# Rename them \"name\", \"redshift\", \"mu\", \"sigma\", \"dots\", \"survey\"\n"
   ]
  },
  {
   "cell_type": "markdown",
   "metadata": {},
   "source": [
    "Note that all plots must have axis labels that include both the name of the variable being plotted and its units.  Redshift and distance modulus are weird because they're unitless, so no units are necessary for those two. I've put restrictions on the number of lines of code in each cell and you will receive a deduction for each extra line of code.  This does not include documentation."
   ]
  },
  {
   "cell_type": "markdown",
   "metadata": {},
   "source": [
    "First plot distance modulus ($\\mu$) on the vertical axis, and redshift on the horizontal axis. Your plot should look like Figure 6 from the Riess et al paper! (A nice check.)  _Note, you only need 3 lines of code to do this, including the 2 lines to label the axis!  No need to convert anything to numpy arrays.  Just plot the columns versus each other! Neither distance modulus nor redshift has units._"
   ]
  },
  {
   "cell_type": "code",
   "execution_count": null,
   "metadata": {},
   "outputs": [],
   "source": [
    "#(4) Plot distance modulus vs redshift.  Make sure it looks like Figure 6 from Riess et al paper.\n",
    "# (2 points, to receive all the credit you must accomplish this is 3 lines of code)\n"
   ]
  },
  {
   "cell_type": "markdown",
   "metadata": {},
   "source": [
    "Okay so that's totally fun (to be able to reproduce a plot from a Nobel prize winning paper!). Now we want to get distance from distance modulus.\n",
    "\n",
    "The distance modulus $\\mu_0$ to which the table refers (column name is \"mu\") is\n",
    "the difference between the apparent and absolute magnitude\n",
    "of the star:\n",
    "$$\n",
    "\\mu_0 = m - M\n",
    "$$\n",
    "where m is the apparent magnitude and M is the absolute magnitude.\n",
    "\n",
    "An object with a distance modulus of $0$ has a distance of 10 pc.  That's actually how absolute magnitude is defined.\n",
    "\n",
    "$$\n",
    "m - M = 5 \\log d - 5 \\\\\n",
    "\\mu_0 = 5 \\log d - 5\n",
    "$$\n",
    "$$\n",
    "(\\mu_0 + 5)/5 = \\log d\n",
    "$$\n",
    "$$\n",
    "d = 10^{\\frac{\\mu_0}{5} + 1}\n",
    "$$\n",
    "\n",
    "Use that last formula to calculate distance from the table.  Call it \"d\".  The formula above yields pc (parsecs). Convert your answer to Mpc (mega parsecs.) This should take at most 2 lines of code."
   ]
  },
  {
   "cell_type": "code",
   "execution_count": null,
   "metadata": {},
   "outputs": [],
   "source": [
    "#(5) Calculate distance from distance modulus (no more than 2 lines of code) (2 points)\n"
   ]
  },
  {
   "cell_type": "markdown",
   "metadata": {},
   "source": [
    "Now plot redshift vs distance.  Again you only need 3 lines of code including the two lines to label the axes."
   ]
  },
  {
   "cell_type": "code",
   "execution_count": null,
   "metadata": {},
   "outputs": [],
   "source": [
    "#(6) Plot redshift vs distance.  No more than 3 lines of code. (2 points)\n"
   ]
  },
  {
   "cell_type": "markdown",
   "metadata": {},
   "source": [
    "Is this what you expect?  That the redshift is higher for larger distances?  It's _really important_ that we do not expect a result like this unless the universe is expanding. I'm asking you to sort out for yourself the cause of distance being proportional to redshift. Large redshifts are _not caused_ by large distances, but rather by large velocities. Something could be close to you, and moving at large velocity, and it would indeed exhibit a large redshift."
   ]
  },
  {
   "cell_type": "markdown",
   "metadata": {},
   "source": [
    "#(7) Is this what you would expect? (2 points)  Explain why, making sure to avoid the pitfall I described above.\n"
   ]
  },
  {
   "cell_type": "markdown",
   "metadata": {},
   "source": [
    "Now fit for Hubble's constant using these data. Using np.polyfit, fit a line (otherwise known as a 1st order polynomial) to the data. The redshift is your independent variable (the x in y=mx+b) and the distance is the dependent variable (the y in the y=mx+b). Let \"p\" be the name of the array in which you store what polyfit returns.  So \"p = np.polyfit(.....\".  (This is only one line of code.)"
   ]
  },
  {
   "cell_type": "code",
   "execution_count": null,
   "metadata": {},
   "outputs": [],
   "source": [
    "#(8) Use polyfit to fit a line to the data. (only one line of code) (1 point)\n"
   ]
  },
  {
   "cell_type": "code",
   "execution_count": null,
   "metadata": {},
   "outputs": [],
   "source": [
    "#(9)  Show the fitted parameters here (1 point)\n"
   ]
  },
  {
   "cell_type": "markdown",
   "metadata": {},
   "source": [
    "You really have no right to expect that that worked until you assess how well it worked.  So plot the fitted line on top of the data.\n",
    "\n",
    "Some hints:\n",
    "\n",
    "y = mx+b   <- that's the equation for a line most of us were taught at some point\n",
    "\n",
    "The way np.polyfit does it\n",
    "p[0] is the \"m\" and p[1] is the \"b\". redshift is the \"x\".\n",
    "\n",
    "This should be 5 lines of code, including the two axis labels."
   ]
  },
  {
   "cell_type": "code",
   "execution_count": null,
   "metadata": {},
   "outputs": [],
   "source": [
    "#(10) Plot the fitted line on top of the data, no more than 5 lines of code. (4 points)\n"
   ]
  },
  {
   "cell_type": "markdown",
   "metadata": {},
   "source": [
    "Hubble's constant is known well.  It's about 72 km/s per Mpc.  Is that what you got?  Ack!!  I don't know!\n",
    "_The slope of your graph is currently in Mpc per redshift._\n",
    "So we need to get km/s on the vertical axis, and Mpc on the horizontal axis, then the slope of your line should be Hubble's\n",
    "constant.  Getting distance from redshift turns out to be a little tricky...."
   ]
  },
  {
   "cell_type": "markdown",
   "metadata": {},
   "source": [
    "## Relativistic relationship between velocity and redshift\n",
    "In the last lab we used an approximation for the relationship between velocity and redshift ($v = zc$) that only works at relatively low velocities.  Low compared to what?  An excellent question.  Low compared the speed of light.  Notice that at redshift of $z=2$ using our formula $v = zc$ that the velocity is twice the speed of light.  This is in fact impossible, since nothing travels faster than the speed of light.  That is our big clue that we need an adjustment. Thankfully, Einstein figured out what the correct function was 100 years ago:  \n",
    "\n",
    "Here's the precise formula (without the approximation):\n",
    "\n",
    "$$\n",
    "z = \\sqrt{\\frac{1+v/c}{1 - v/c}} -1\n",
    "$$\n",
    "\n",
    "And when you solve that for $v$ you get\n",
    "$$\n",
    "v = \\frac{(z+1)^2 -1}{(z+1)^2+1}c\n",
    "$$"
   ]
  },
  {
   "cell_type": "markdown",
   "metadata": {},
   "source": [
    "* Write a function getv(z) which will return $v$ for any value of z we pass it. "
   ]
  },
  {
   "cell_type": "code",
   "execution_count": null,
   "metadata": {},
   "outputs": [],
   "source": [
    "#(11) Create function getv(z) (3 points)\n"
   ]
  },
  {
   "cell_type": "markdown",
   "metadata": {},
   "source": [
    "Before we go using our function willy nilly we should check that it is correct. One way to check it is to show that for very large z (10 or more) the velocity getv returns is close to the speed of light. Do that below by creating an array of z's, call it _zarray_, from 0 to 10 increasing by an interval of 0.1.  Plot v vs zarray with axes labeled.  Do this with no loops, and no more than 4 lines of code (not including documentation). _Hint: Don't forget you can call your function on a whole array. Another hint: Here are the 4 lines: (1) define zarray, (2) plt.plot (3) plt.xlabel (4) plt.ylabel"
   ]
  },
  {
   "cell_type": "code",
   "execution_count": null,
   "metadata": {},
   "outputs": [],
   "source": [
    "#(12) Use getv() to make a plot (3 points)\n"
   ]
  },
  {
   "cell_type": "markdown",
   "metadata": {},
   "source": [
    "Explain what your graph shows.  In other words, from looking at this graph, how do you know your function is working correctly?  (Some hints: comment on its behavior when z is small (0-1) and on its behavior when z is large (8-10).  Explain how those two behaviors reassure you that your function is working properly.)"
   ]
  },
  {
   "cell_type": "markdown",
   "metadata": {},
   "source": [
    "#(13) Explain what your graph shows. (1 point)\n"
   ]
  },
  {
   "cell_type": "markdown",
   "metadata": {},
   "source": [
    "We should check whether it returns the expected value for small $z$.  In other words, we expect that for small $z$ our old relationship $v = cz$ still holds.\n",
    "\n",
    "Reproduce the same plot as above, but add a line corresponding to $v=cz$. Make sure your new plot maintains the same axes limits as the previous one. This should add at most three lines of code to the above (one for the new plt.plot, two to set plt.xlim and plt.ylim)."
   ]
  },
  {
   "cell_type": "code",
   "execution_count": null,
   "metadata": {},
   "outputs": [],
   "source": [
    "#(14)  Plot v=cz on top of the plot you showed in #12. (5 points)\n",
    "\n"
   ]
  },
  {
   "cell_type": "markdown",
   "metadata": {},
   "source": [
    "#(15) Based on the graph above, for how high a velocity does $v=zc$ hold true? What fraction of the speed of light is that?\n",
    "(2 points) "
   ]
  },
  {
   "cell_type": "markdown",
   "metadata": {},
   "source": [
    "Now that we've figured out how to get distance, let's go back to figuring out Hubble's constant.  Hubble's \"constant\" is in km/s per Mpc, so we want km/s on the vertical axis, and Mpc on the horizontal axis.  That way the slope of our graph will be Hubble's constant.\n",
    "\n",
    "Make this plot using your function getv to get the velocities.  Please call velocity \"velocity\".  _Hint:  This is only 4 lines of code, including 2 lines to label your axes._\n"
   ]
  },
  {
   "cell_type": "code",
   "execution_count": null,
   "metadata": {},
   "outputs": [],
   "source": [
    "#(16) Plot velocity vs distance. 4 lines of code. (3 points)\n"
   ]
  },
  {
   "cell_type": "markdown",
   "metadata": {},
   "source": [
    "#(17) Describe how you can already see Hubble's constant decreasing as you look at farther away supernovae. Hint: If Hubble's \"constant\" were the same for all distances, this would be a straight line. (1 point)"
   ]
  },
  {
   "cell_type": "markdown",
   "metadata": {},
   "source": [
    "Fit a line to these data, and see what its slope is.  The slope should be a reasonable guess at Hubble's constant. (The Hubble's constant we get this way will be too small, for the reason you described just above.)  Use np.polyfit with a \"1\" for its last argument to indicate a first order polynomial.  Set \"p\" (for parameters\") equal to your np.polyfit call, and then show what p is. This is 2 lines of code."
   ]
  },
  {
   "cell_type": "code",
   "execution_count": null,
   "metadata": {},
   "outputs": [],
   "source": [
    "#(18) Fit to a line and show p. 2 lines of code. (2 points)\n"
   ]
  },
  {
   "cell_type": "markdown",
   "metadata": {},
   "source": [
    "Look up the value of Hubble's constant on the web and see if you think that's at least in the ballpark of what we expected.  (Be generous, we know we'll get a lower value than what's on the web, but it shouldn't be 10x lower!).  Comment here on whether your value is in the right ballpark, and also say what units your H is in. (Hint: Look the units on the axis of your plot and consider that slope is change in y over change in x.)  By the way, when astronomers say that something is in the right ballpark, they usually mean is it the same \"order or magnitude\".  By \"order of magnitude\" we mean that if you write it in scientific notation (eg $3.5 \\times 10^8$) that the exponent is the same.  In other words $1.2 \\times 10^8$ is the same order of magnitude as $3.5 \\times 10^8$.\n"
   ]
  },
  {
   "cell_type": "markdown",
   "metadata": {},
   "source": [
    "#(19) Is my value in the right ballpark?  (1 point)"
   ]
  },
  {
   "cell_type": "markdown",
   "metadata": {},
   "source": [
    "## Overplotting the fit\n",
    "In order to see if the fit turned out right, we should plot it over the top of our data points.  Do that here using the parameters \"p\" and the notes from class on polynomials.  Please call the fitted velocity \"fitted_velocity.\" _Hint: This should only take 5 lines of code including the 2 for labeling the axes."
   ]
  },
  {
   "cell_type": "code",
   "execution_count": null,
   "metadata": {},
   "outputs": [],
   "source": [
    "#(20) Plot our fit over the data (5 lines of code) (4 points)"
   ]
  },
  {
   "cell_type": "markdown",
   "metadata": {},
   "source": [
    "If you did this \"right\" you'll notice the line doesn't fit very well.  It does follow the general trend, but the data kinda snake around it.  Let's try some more experimentation with this idea that perhaps Hubble's \"constant\" is changing."
   ]
  },
  {
   "cell_type": "markdown",
   "metadata": {},
   "source": [
    "What Hubble's 'constant' do you get for the closer supernovae (d < 6000 Mpc) and the farther supernovae (d > 6000 Mpc)  _Hint: Based on Adam's lecture where would you expect to find the largest value of Hubble's 'constant?'  Also, I used np.where to do this, and apparently np.where needs np.arrays, so convert both d and velocity to np.arrays. Please convert them \"in place\" so they are still called\n",
    "\"d\" and \"velocity\"._ \n",
    "\n",
    "You should print your value of Hubble's constant in a complete sentence.\n"
   ]
  },
  {
   "cell_type": "code",
   "execution_count": null,
   "metadata": {},
   "outputs": [],
   "source": [
    "#(21a) Find hubble's constant for the closer (d<6000 Mpc) supernovae. (4 points)\n",
    "# No more than 12 lines of code here.\n"
   ]
  },
  {
   "cell_type": "code",
   "execution_count": null,
   "metadata": {},
   "outputs": [],
   "source": [
    "#(21b) Find hubble's constant for the closer (d>6000 Mpc) supernovae. (4 points)\n",
    "# No more than 10 lines of code (because you already converted\n",
    "# d and velocity into np.arrays in the cell above)\n"
   ]
  },
  {
   "cell_type": "markdown",
   "metadata": {},
   "source": [
    "Summarize what you learned from the two plots above. What were your two values of the Hubble constant from the two plots.  Be sure to quote units on your answers."
   ]
  },
  {
   "cell_type": "markdown",
   "metadata": {},
   "source": [
    "#(22) What were your two values of the Hubble constant above (in correct units), and what did you learn from them?\n",
    "Suggested answer: (3 points)\n"
   ]
  },
  {
   "cell_type": "markdown",
   "metadata": {},
   "source": [
    "# Did you notice that our line is doing a pretty bad job of modeling the data? \n",
    "\n",
    "One way to determine that is to plot the \"residuals\" of the fit.  \"Residuals\" are a fancy word for the difference between the model and the data. \n",
    "\n",
    "Plot the residuals resulting from fitting a line to the entire data set.\n",
    "\n",
    "_Hint: because you have already plotted the fitted line (at the top of the section called \"Overplotting the fit\"), you only at most one more line of code to plot the residuals. So take your 5 lines of code from there and add no more than one line. The residuals are the original velocities minus the fitted velocities._\n",
    "\n",
    "_Hint2: The y-axis should be labeled \"residual velocity (km/sec)\"_\n"
   ]
  },
  {
   "cell_type": "code",
   "execution_count": null,
   "metadata": {},
   "outputs": [],
   "source": [
    "#(23) Plot the residuals resulting from fitting a line to the entire data set. No more than 6 lines of code. \n",
    "# (4 points)\n"
   ]
  },
  {
   "cell_type": "markdown",
   "metadata": {},
   "source": [
    "If you've done this right, you should see residual velocities that run from about -60,000 km/sec to 60,000 km/sec. "
   ]
  },
  {
   "cell_type": "markdown",
   "metadata": {},
   "source": [
    "#(24) Why are some of the residuals negative? (1 point)\n"
   ]
  },
  {
   "cell_type": "markdown",
   "metadata": {},
   "source": [
    "#(25) What would you expect this residual plot to look like if the line fit the data well? (1 point)"
   ]
  },
  {
   "cell_type": "markdown",
   "metadata": {},
   "source": [
    "It looks like we need some sort of curved function. What we can do is use a 2nd or 3rd order polynomial instead of just a 1st order.\n",
    "Yes, and then the derivative of the polynomial at everypoint is Hubble's constant.  That's pretty fun!  \n",
    "\n",
    "So now, going back to the whole data set, fit the whole data set to a 2nd order polynomial (by changing one number in the call to polyfit).  Also plot the fitted curve as you did before. \n",
    "\n",
    "Hint: This should require 2 changes to your previous code, and zero additional lines of code. The most significant adjustment will be in the calculation of \"fitted\\_velocity.\" No more than 6 lines of code here."
   ]
  },
  {
   "cell_type": "code",
   "execution_count": null,
   "metadata": {},
   "outputs": [],
   "source": [
    "#(26) Fit the supernovae data to a 2nd order polynomial and plot the fitted curve on top of the data.( 5 points)\n"
   ]
  },
  {
   "cell_type": "markdown",
   "metadata": {},
   "source": [
    "How do you think the residuals will look now?  First jot some notes to yourself on a piece of paper and then plot them below."
   ]
  },
  {
   "cell_type": "code",
   "execution_count": null,
   "metadata": {},
   "outputs": [],
   "source": [
    "#(27)  Plot residual velocity vs distance.(4 points)\n"
   ]
  },
  {
   "cell_type": "markdown",
   "metadata": {},
   "source": [
    "#(28) Do they look different from what you expected?  How or how not? (2 points)\n"
   ]
  },
  {
   "cell_type": "markdown",
   "metadata": {},
   "source": [
    "#(29) Based on the residuals, would you say the model fits the data well?  Why or why not? (1 point)\n"
   ]
  },
  {
   "cell_type": "markdown",
   "metadata": {},
   "source": [
    "Let's try a 3rd order polynomial. Again, plot the whole range of data, and show your fitted 3rd order polynomial on top of it. _No more than 6 lines of code, including axis labels._"
   ]
  },
  {
   "cell_type": "code",
   "execution_count": null,
   "metadata": {},
   "outputs": [],
   "source": [
    "#(30) Fit 3rd order polynomial and again overplot the fit on the data. (5 points)\n"
   ]
  },
  {
   "cell_type": "markdown",
   "metadata": {},
   "source": [
    "Did you notice that the 3rd order polynomial does a better job of taking care of the data at large distance?  (rhetorical question). Please again plot the velocity residuals."
   ]
  },
  {
   "cell_type": "code",
   "execution_count": null,
   "metadata": {},
   "outputs": [],
   "source": [
    "#(31) Plot the residuals (residual velocity vs distance) (4 points)\n"
   ]
  },
  {
   "cell_type": "markdown",
   "metadata": {},
   "source": [
    "#(32) Comment on whether those residuals indicate that this model is a better fit to the data.(1 point)\n"
   ]
  },
  {
   "cell_type": "markdown",
   "metadata": {},
   "source": [
    "As we talked about in class, we now have an equation that tells us the relationship between velocity and distance anywhere in the universe. The equation is:\n",
    "$$\n",
    "velocity = p[0]D^3 + p[1]D^2 + p[2]D + p[3]\n",
    "$$\n",
    "where $p$ is the array of parameters that the polyfit function returned.\n",
    "\n",
    "The tangent to that function is Hubble's \"constant\" anywhere in the universe.  Please recall that the tangent to any function is its derivative.\n",
    "\n",
    "One fun thing about a polynomial is that you can easily take the derivative of it.\n",
    "\n",
    "In the cell below, write the derivative of velocity.  I've started it for you, but you need to finish it.  Feel free to ask me or Dave or TAs for a reminder about derivative rules.\n"
   ]
  },
  {
   "cell_type": "markdown",
   "metadata": {},
   "source": [
    "$$\n",
    "\\frac{dv}{dD} = 3p[0]D^2 + \n",
    "$$"
   ]
  },
  {
   "cell_type": "markdown",
   "metadata": {},
   "source": [
    "#(33) (Your answer for derivative of velocity here.) (2 points)\n"
   ]
  },
  {
   "cell_type": "markdown",
   "metadata": {},
   "source": [
    "So that function $\\frac{dv}{dD}$ that you wrote out above is actually the value of Hubble's \"constant\" anywhere in the universe.   Call it H (for Hubble) and plot H as a function of D.  You already know what you expect it to look like vaguely, right?  It should be larger for small distances, and smaller for large distances.  Make sure to label the axes of your plots with the appropriate units. _Hint: This should only take 4 lines of code, including axis labels._"
   ]
  },
  {
   "cell_type": "code",
   "execution_count": null,
   "metadata": {},
   "outputs": [],
   "source": [
    "#(34) Plot Hubble's constant vs distance. (3 points)\n"
   ]
  },
  {
   "cell_type": "markdown",
   "metadata": {},
   "source": [
    "That's an awesome plot!!   Before I make you comment on it, let's put the x-axis into some more useful units. Instead of distance, astronomers like to think in terms of \"look-back time\".  In other words, how far back in time are we looking when we look at 8000 Mpc\n",
    "(for example)?  This turns out to be more complicated that just converting distances into light years, because of the expanding and accelerating universe. There's a library called \"astropy\" that we can use to do this work for us. It turns out that in order to calculate lookback time you have to choose which version of the universe you believe.  For our purposes we will choose the parameters determined by Planck13.  Planck is a satellite that measured the temperature and polarization of the Cosmic Microwave Background. \n",
    "\n",
    "http://docs.astropy.org/en/stable/cosmology/\n",
    "\n",
    "(You don't necessarily need to look at that page, but I include it in case you are curious.)\n",
    "\n",
    "First import the library:"
   ]
  },
  {
   "cell_type": "code",
   "execution_count": null,
   "metadata": {},
   "outputs": [],
   "source": [
    "from astropy.cosmology import Planck13  # Planck 2013\n",
    "from astropy import units as u # a pretty fancy way\n",
    "# keeping track of units\n",
    "from astropy.cosmology import z_at_value\n",
    "# And here is how you calculate the lookback time at \n",
    "# redshift 2\n",
    "Planck13.lookback_time(2)"
   ]
  },
  {
   "cell_type": "markdown",
   "metadata": {},
   "source": [
    "So the answer above says that at a redshift of 2 the lookback time is 10.5 Gyr (or 10.5 billion years.) The universe is only 14 billion years old, so this is most of the way back."
   ]
  },
  {
   "cell_type": "code",
   "execution_count": null,
   "metadata": {},
   "outputs": [],
   "source": [
    "# Now we need to find the value of the redshift z at each of \n",
    "# our distance moduli, allSN.mu.\n",
    "# I included all this here in case you're interested, but feel\n",
    "# free to skip to the last line of this cell where I calculate\n",
    "# the lookback time for each of our supernovae.\n",
    "\n",
    "# To do this I'm using a linear interpolation function \n",
    "# using suggestions I found here:\n",
    "# https://het.as.utexas.edu/HET/Software/Astropy-0.4.2/...\n",
    "#          api/astropy.cosmology.z_at_value.html\n",
    "\n",
    "# Create a grid of z's logarithmically distributed\n",
    "# that covers the redshift range from 0.02 to 2\n",
    "zgrid = np.logspace(np.log10(0.02), np.log10(2))\n",
    "# Calculate all the distance moduli for all the z's in the grid\n",
    "Dgrid = Planck13.distmod(zgrid)\n",
    "# Finally interpolate to find the redshift at each distance modulus:\n",
    "zvals = np.interp(allSN.mu, Dgrid.value, zgrid)\n",
    "# Now to find the lookback time, we put those \n",
    "# redshift values into\n",
    "# the lookback_time attribute of our chosen cosmology\n",
    "lookback = Planck13.lookback_time(zvals)"
   ]
  },
  {
   "cell_type": "markdown",
   "metadata": {},
   "source": [
    "And now make the sample plot as above, but this time plot Hubble's \"constant\" vs lookback time. Be sure to label your axes, including units. (3 lines of code, including axis labels.)  For lookback time just use \"lookback\" because I set it up for you already in the cell above, i.e. you don't have to calculate it. "
   ]
  },
  {
   "cell_type": "code",
   "execution_count": null,
   "metadata": {},
   "outputs": [],
   "source": [
    "#(35) Plot Hubble's constant vs lookback time.  (2 points)\n"
   ]
  },
  {
   "cell_type": "markdown",
   "metadata": {},
   "source": [
    "#(36) Based on your graph, what was Hubble's constant (with appropriate units) 2 billion years ago? 6 billion years ago?  10 billion years ago? (3 points)\n"
   ]
  },
  {
   "cell_type": "markdown",
   "metadata": {},
   "source": [
    "Here's a good question that you might have:\n",
    "\n",
    "Why didn't we just use our redshift values from the table to find the lookback time?\n",
    "\n",
    "You can do that!  You just say:\n",
    "\n",
    "lookback = Planck13.lookback_time(allSN.redshift)\n",
    "\n",
    "Feel free to try that, but I'm not assigning it.\n",
    "\n",
    "It turns out this gives a much more scattered plot than the way we just did it - by using the distance moduli to get the lookback\n",
    "time.  In other words, our distance measurements are more accurate than our redshift measurements, so it was better to base lookback time on distance."
   ]
  },
  {
   "cell_type": "markdown",
   "metadata": {},
   "source": [
    "## Caveats\n",
    "We swept some things under the rug in order to keep this lab from going off the rails. (Sorry for mixing metaphors.)\n",
    "\n",
    "- Now that we know that Hubble's 'constant' is changing, it turns out that we actually needed to do an integral to get the distance:\n",
    "\n",
    "$$\n",
    "d= c(1 + z)\\int_0^z \\frac{du}{H(u)}\n",
    "$$\n",
    "\n",
    "Using that expression for distance would subsequently change the value of Hubble's \"constant\" significantly in the early universe. Our analysis showed that it changed by almost a factor of 10. In more rigorous calculations it only changes by about a factor of 2. However, the calculation we did maintains the character of the effect very well.\n",
    "\n",
    "- You may have noticed that we didn't even get the accepted value of the current Hubble's constant correct. It is about 70 km/sec per Mpc right now. (There's actually a controversy over whether it's 68 or 72 km/sec per Mpc. From looking at supernovae (as we did here) researchers get 72 km/sec per Mpc.  From looking at the anisotropy in the microwave background researchers get 68 km/sec per Mpc.)  The reason we didn't get 70 km/sec is that Riess and colleagues don't care about the intrinsic brightness of the supernovae they are using as standard candles. In other words, even though they are using a standard candle to do all this analysis, the actual brightness of the standard candle doesn't enter into their calculations. So toward the beginning of the lab when I wrote the relationship between distance and distance modulus, \n",
    "$$\n",
    "d = 10^{\\frac{\\mu_0}{5} + 1}\n",
    "$$\n",
    "the $\\mu_0$ has an arbitrary but constant offset in it. Feel free to play around with this and see how it changes your values of Hubble's constant. (Just for fun. Not required.) I found that adding -.75 to $\\mu_0$ got me closer to the modern value of Hubble's constant."
   ]
  },
  {
   "cell_type": "markdown",
   "metadata": {},
   "source": [
    "## Three last very important questions\n",
    "Sometimes doing labs with a lot of challenging instructions like this one, you lose the forest for the trees.  Take a moment and try to see the forest and write it down here.  More specifically, answer these questions:\n",
    "(2 points each)\n",
    "- Why are supernovae useful for measuring the history of our universe?\n",
    "- What is Hubble's law, and what does it mean that we measured the \"constant\" to be changing over time?\n",
    "- Explain in words why we fit a plot of velocity vs distance to a polynomial, and then took the derivative of that polynomial to find Hubble's 'constant' as a function of time."
   ]
  },
  {
   "cell_type": "markdown",
   "metadata": {},
   "source": [
    "#(37) The three questions above (2 points for each question, so 6 points total)\n"
   ]
  },
  {
   "cell_type": "markdown",
   "metadata": {},
   "source": [
    "# Congratulations\n",
    "You have finished lab #4. You have really learned a lot of astronomy and a lot of programming. If it seems like your brain hurts that's because it's growing. "
   ]
  }
 ],
 "metadata": {
  "kernelspec": {
   "display_name": "Python 3",
   "language": "python",
   "name": "python3"
  },
  "language_info": {
   "codemirror_mode": {
    "name": "ipython",
    "version": 3
   },
   "file_extension": ".py",
   "mimetype": "text/x-python",
   "name": "python",
   "nbconvert_exporter": "python",
   "pygments_lexer": "ipython3",
   "version": "3.5.2"
  }
 },
 "nbformat": 4,
 "nbformat_minor": 2
}
